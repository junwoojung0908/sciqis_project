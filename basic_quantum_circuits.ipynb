{
 "cells": [
  {
   "cell_type": "code",
   "execution_count": 160,
   "id": "4d214565",
   "metadata": {},
   "outputs": [],
   "source": [
    "import numpy as np"
   ]
  },
  {
   "cell_type": "markdown",
   "id": "0a950eab",
   "metadata": {},
   "source": [
    "# Class of State "
   ]
  },
  {
   "cell_type": "code",
   "execution_count": 161,
   "id": "493f243d",
   "metadata": {},
   "outputs": [],
   "source": [
    "class State:\n",
    "    def __init__(self, vector):\n",
    "        self.vector = vector\n",
    "\n",
    "    def apply(self, gate):\n",
    "        return State(gate.matrix@self.vector)\n",
    "\n",
    "    def norm(self):\n",
    "        return np.linalg.norm(self.vector)\n",
    "    \n",
    "    def normalise(self):\n",
    "        return State(self.vector/self.norm())\n",
    "    \n",
    "    def __str__(self):\n",
    "        return str(self.vector)\n",
    "    \n",
    "    def __pow__(self, other):\n",
    "        if isinstance(self, State):\n",
    "            return State(np.kron(self.vector,other.vector))\n",
    "    \n",
    "    def full_measurement(state):\n",
    "        # Calculate probabilities for each basis state\n",
    "        probs = np.abs(state)**2\n",
    "\n",
    "        # Randomly select a basis state based on probabilities\n",
    "        outcome_index = np.random.choice(len(state), p=probs)\n",
    "\n",
    "        # Collapse the state to the selected basis state\n",
    "        collapsed_state = np.zeros_like(state)\n",
    "        collapsed_state[outcome_index] = 1\n",
    "\n",
    "        return outcome_index, collapsed_state\n",
    "    \n",
    "    def subsystem_measurement(self, qubit_index, num_qubits):\n",
    "        \"\"\"\n",
    "        Perform measurement on a specific qubit in a multi-qubit system and remove the measured dimension.\n",
    "        \"\"\"\n",
    "        # Reshape the state vector into a tensor product form\n",
    "        reshaped_state = self.vector.reshape([2] * num_qubits)\n",
    "\n",
    "        # Calculate probabilities for the specified qubit\n",
    "        probs = np.zeros(2)\n",
    "        for i in range(2):\n",
    "            mask = [slice(None)] * num_qubits\n",
    "            mask[qubit_index] = i\n",
    "            probs[i] = np.sum(np.abs(reshaped_state[tuple(mask)])**2)\n",
    "\n",
    "        # Randomly select a measurement outcome\n",
    "        outcome = np.random.choice([0, 1], p=probs)\n",
    "\n",
    "        # Collapse the state based on the measurement outcome\n",
    "        mask = [slice(None)] * num_qubits\n",
    "        mask[qubit_index] = outcome\n",
    "        collapsed_state = reshaped_state[tuple(mask)]\n",
    "\n",
    "        # Remove the measured dimension\n",
    "        final_state = State(collapsed_state.flatten())\n",
    "        new_state_vector = final_state.normalise()\n",
    "\n",
    "        return outcome, new_state_vector\n",
    "    \n",
    "    def __str__(self):\n",
    "        return str(self.vector.round(4))"
   ]
  },
  {
   "cell_type": "markdown",
   "id": "6bc19a83",
   "metadata": {},
   "source": [
    "# Class of Gate"
   ]
  },
  {
   "cell_type": "code",
   "execution_count": 162,
   "id": "69473790",
   "metadata": {},
   "outputs": [],
   "source": [
    "class Gate:\n",
    "    def __init__(self, matrix):\n",
    "        self.matrix = matrix\n",
    "    \n",
    "    def __matmul__(self, other):\n",
    "        if isinstance(other, Gate):\n",
    "            return Gate(other.matrix@self.matrix)\n",
    "        elif isinstance(other, State):\n",
    "            return other.apply(self)\n",
    "        else:\n",
    "            raise TypeError(\"Unsupported type for multiplication with Gate\")\n",
    "        \n",
    "    def __add__(self, other):\n",
    "        if isinstance(other, Gate):\n",
    "            return Gate(self.matrix + other.matrix)\n",
    "        else:\n",
    "            raise TypeError(\"Unsupported type for addition with Gate\")\n",
    "    \n",
    "    def __pow__(self, other):\n",
    "        return Gate(np.kron(self.matrix, other.matrix))"
   ]
  },
  {
   "cell_type": "markdown",
   "id": "7efa94eb",
   "metadata": {},
   "source": [
    "# Useful States and Gates"
   ]
  },
  {
   "cell_type": "code",
   "execution_count": null,
   "id": "7c7f0b7d",
   "metadata": {},
   "outputs": [],
   "source": [
    "zero_state = State(np.array([1, 0]))  # |0>\n",
    "one_state  = State(np.array([0, 1]))  # |1>\n",
    "\n",
    "phi_plus  = State(np.array([1, 0, 0, 1]) / np.sqrt(2))  # |00> + |11>\n",
    "phi_minus = State(np.array([1, 0, 0, -1]) / np.sqrt(2)) # |00> - |11>\n",
    "psi_plus  = State(np.array([0, 1, 1, 0]) / np.sqrt(2))  # |01> + |10>\n",
    "psi_minus = State(np.array([0, 1, -1, 0]) / np.sqrt(2)) # |01> - |10>\n",
    "\n",
    "\n",
    "I = Gate(np.array([[1, 0], [0, 1]]))\n",
    "X = Gate(np.array([[0, 1], [1, 0]]))    # Pauli-X gate\n",
    "Y = Gate(np.array([[0, -1j], [1j, 0]]))  # Pauli-Y gate\n",
    "Z = Gate(np.array([[1, 0], [0, -1]]))   # Pauli-Z gate\n",
    "H = Gate((1/np.sqrt(2)) * np.array([[1, 1], [1, -1]]))  # Hadamard gate\n",
    "T = Gate(np.array([[1, 0], [0, np.exp(1j * np.pi / 4)]]))  # T gate\n",
    "CNOT = Gate(np.array([[1, 0, 0, 0], \n",
    "                 [0, 1, 0, 0], \n",
    "                 [0, 0, 0, 1], \n",
    "                 [0, 0, 1, 0]]))  # CNOT gate\n",
    "project_zero = Gate(np.array([[1, 0], [0, 0]]))  # Projector onto |0>\n",
    "project_one  = Gate(np.array([[0, 0], [0, 1]]))  # Projector onto |1>"
   ]
  },
  {
   "cell_type": "markdown",
   "id": "df9b6c18",
   "metadata": {},
   "source": [
    "# One-qubit Gate: H@T@X Gate"
   ]
  },
  {
   "cell_type": "code",
   "execution_count": 164,
   "id": "44fdb6c4",
   "metadata": {},
   "outputs": [
    {
     "name": "stdout",
     "output_type": "stream",
     "text": [
      "HTX gate\n",
      "Final state: [-0.5   -0.5j  0.7071+0.j ]\n",
      "Final state norm: 0.9999999999999999\n"
     ]
    }
   ],
   "source": [
    "# Example 1: H@T@X gate\n",
    "\n",
    "initial_state = one_state\n",
    "full_gate = H@T@X\n",
    "final_state = full_gate@initial_state\n",
    "\n",
    "print(\"HTX gate\")\n",
    "print(\"Final state:\", final_state)\n",
    "print(\"Final state norm:\", final_state.norm())"
   ]
  },
  {
   "cell_type": "markdown",
   "id": "d68aba5b",
   "metadata": {},
   "source": [
    "# Two-qubit Gate: H+CNOT gate"
   ]
  },
  {
   "cell_type": "code",
   "execution_count": 165,
   "id": "a8e8f4a0",
   "metadata": {},
   "outputs": [
    {
     "name": "stdout",
     "output_type": "stream",
     "text": [
      "\n",
      "Final state: [ 0.5  0.5 -0.5 -0.5]\n",
      "Final state norm: 0.9999999999999998\n"
     ]
    }
   ],
   "source": [
    "# Example 2: parallel H's and CNOT gate\n",
    "\n",
    "initial_state = one_state**one_state\n",
    "full_gate = CNOT@(H**H)\n",
    "final_state = full_gate@initial_state\n",
    "\n",
    "print()\n",
    "print(\"Final state:\", final_state)\n",
    "print(\"Final state norm:\", final_state.norm())"
   ]
  },
  {
   "cell_type": "markdown",
   "id": "6711ea4f",
   "metadata": {},
   "source": [
    "# Three-qubit Gate: Quantum Teleportation"
   ]
  },
  {
   "cell_type": "code",
   "execution_count": 166,
   "id": "965cfe73",
   "metadata": {},
   "outputs": [
    {
     "name": "stdout",
     "output_type": "stream",
     "text": [
      "initial state [0.5477 0.8367]\n",
      "norm 1.0\n",
      "\n",
      "state after bell measurment [0.5477 0.8367]\n",
      "norm: 1.0\n",
      "measurment_outcome [0, 0]\n",
      "\n",
      "final state [0.5477 0.8367]\n",
      "norm: 1.0\n"
     ]
    }
   ],
   "source": [
    "# Example 3: Quantum teleportation\n",
    "\n",
    "alpha, beta = 0.3**0.5, 0.7**0.5\n",
    "\n",
    "chris_state = State(np.array([alpha,beta]))\n",
    "\n",
    "print(\"initial state\",chris_state)\n",
    "print(\"norm\",state.norm())\n",
    "\n",
    "state = chris_state**phi_plus\n",
    "\n",
    "state = (CNOT**I)@state\n",
    "state = (H**I**I)@state\n",
    "\n",
    "bell_measure_outcome = [None,None]\n",
    "outcome, state = state.subsystem_measurement(0, 3)\n",
    "\n",
    "bell_measure_outcome[0] = int(outcome)\n",
    "outcome, state = state.subsystem_measurement(0, 2)\n",
    "\n",
    "bell_measure_outcome[1] = int(outcome)\n",
    "\n",
    "print()\n",
    "print(\"state after bell measurment\", state)\n",
    "print(\"norm:\", state.norm())\n",
    "print(\"measurment_outcome\", bell_measure_outcome)\n",
    "\n",
    "final_gate = I\n",
    "if bell_measure_outcome[0]: \n",
    "    final_gate = final_gate@Z\n",
    "if bell_measure_outcome[1]: \n",
    "    final_gate = final_gate@X\n",
    "\n",
    "final_state = final_gate@state\n",
    "print()\n",
    "print(\"final state\", final_state)\n",
    "print(\"norm:\", final_state.norm())"
   ]
  },
  {
   "cell_type": "markdown",
   "id": "53fe4adf",
   "metadata": {},
   "source": [
    "# Three Qubit Gate: Quantum Fourier Transform"
   ]
  },
  {
   "cell_type": "code",
   "execution_count": 171,
   "id": "cf49de57",
   "metadata": {},
   "outputs": [
    {
     "name": "stdout",
     "output_type": "stream",
     "text": [
      "initial state [0 0 0 0 1 0 0 0]\n",
      "norm 1.0\n",
      "\n",
      "final state [0.354+0.j    0.354+0.j    0.   +0.354j 0.   +0.354j 0.25 -0.25j\n",
      " 0.25 -0.25j  0.25 +0.25j  0.25 +0.25j ]\n",
      "norm: 0.9999999999999997\n"
     ]
    }
   ],
   "source": [
    "#initial_state = zero_state ** zero_state ** zero_state\n",
    "#initial_state = zero_state ** one_state ** one_state\n",
    "initial_state = one_state ** zero_state ** zero_state\n",
    "#initial_state = one_state ** one_state ** one_state\n",
    "\n",
    "\n",
    "print(\"initial state\",initial_state)\n",
    "print(\"norm\",state.norm())\n",
    "\n",
    "def R(k):\n",
    "    omega = 1j*2*np.pi\n",
    "    Rk =[[1, 0],\n",
    "         [0, np.exp(omega/2**k)]]\n",
    "    return Gate(np.array(Rk))\n",
    "\n",
    "gate = H**I**I\n",
    "gate @= R(2)**project_zero**I + I**project_one**I\n",
    "gate @= R(3)**I**project_zero + I**I**project_one\n",
    "\n",
    "gate @= I**H**I\n",
    "gate @= I**R(2)**project_zero + I**I**project_one\n",
    "\n",
    "gate @= I**I**H\n",
    "\n",
    "final_state = gate@initial_state\n",
    "\n",
    "print()\n",
    "print(\"final state\", final_state.vector.round(3))\n",
    "print(\"norm:\", final_state.norm())"
   ]
  },
  {
   "cell_type": "markdown",
   "id": "5b5d56e4",
   "metadata": {},
   "source": []
  },
  {
   "cell_type": "code",
   "execution_count": 168,
   "id": "61571078",
   "metadata": {},
   "outputs": [
    {
     "name": "stdout",
     "output_type": "stream",
     "text": [
      "0.35355339059327373\n"
     ]
    }
   ],
   "source": [
    "print(1/np.sqrt(8))"
   ]
  },
  {
   "cell_type": "code",
   "execution_count": null,
   "id": "15a9110f",
   "metadata": {},
   "outputs": [],
   "source": []
  }
 ],
 "metadata": {
  "kernelspec": {
   "display_name": "Python 3",
   "language": "python",
   "name": "python3"
  },
  "language_info": {
   "codemirror_mode": {
    "name": "ipython",
    "version": 3
   },
   "file_extension": ".py",
   "mimetype": "text/x-python",
   "name": "python",
   "nbconvert_exporter": "python",
   "pygments_lexer": "ipython3",
   "version": "3.13.1"
  }
 },
 "nbformat": 4,
 "nbformat_minor": 5
}
