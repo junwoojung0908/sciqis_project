{
 "cells": [
  {
   "cell_type": "code",
   "execution_count": null,
   "id": "4d214565",
   "metadata": {},
   "outputs": [],
   "source": [
    "import numpy as np\n",
    "from state_gate_class import State, Gate\n",
    "from useful_states_gates import *"
   ]
  },
  {
   "cell_type": "markdown",
   "id": "df9b6c18",
   "metadata": {},
   "source": [
    "# 1. H@T@X Gate"
   ]
  },
  {
   "cell_type": "code",
   "execution_count": 2,
   "id": "44fdb6c4",
   "metadata": {},
   "outputs": [
    {
     "name": "stdout",
     "output_type": "stream",
     "text": [
      "HTX gate\n",
      "Final state: [-0.5   -0.5j  0.7071+0.j ]\n",
      "Final state norm: 0.9999999999999999\n"
     ]
    }
   ],
   "source": [
    "# Example 1: H@T@X gate\n",
    "\n",
    "initial_state = one_state\n",
    "full_gate = H@T@X\n",
    "final_state = full_gate@initial_state\n",
    "\n",
    "print(\"HTX gate\")\n",
    "print(\"Final state:\", final_state)\n",
    "print(\"Final state norm:\", final_state.norm())"
   ]
  },
  {
   "cell_type": "markdown",
   "id": "d68aba5b",
   "metadata": {},
   "source": [
    "# 2. H+CNOT gate"
   ]
  },
  {
   "cell_type": "code",
   "execution_count": 3,
   "id": "a8e8f4a0",
   "metadata": {},
   "outputs": [
    {
     "name": "stdout",
     "output_type": "stream",
     "text": [
      "\n",
      "Final state: [ 0.5  0.5 -0.5 -0.5]\n",
      "Final state norm: 0.9999999999999998\n"
     ]
    }
   ],
   "source": [
    "# Example 2: parallel H's and CNOT gate\n",
    "\n",
    "initial_state = one_state**one_state\n",
    "full_gate = CNOT@(H**H)\n",
    "final_state = full_gate@initial_state\n",
    "\n",
    "print()\n",
    "print(\"Final state:\", final_state)\n",
    "print(\"Final state norm:\", final_state.norm())"
   ]
  },
  {
   "cell_type": "markdown",
   "id": "6711ea4f",
   "metadata": {},
   "source": [
    "# 3. Quantum Teleportation"
   ]
  },
  {
   "cell_type": "code",
   "execution_count": 4,
   "id": "965cfe73",
   "metadata": {},
   "outputs": [
    {
     "name": "stdout",
     "output_type": "stream",
     "text": [
      "initial state [0.5477 0.8367]\n",
      "norm 1.0\n",
      "\n",
      "state after bell measurment [-0.8367  0.5477]\n",
      "norm: 1.0\n",
      "measurment_outcome [1, 1]\n",
      "\n",
      "final state [-0.5477 -0.8367]\n",
      "norm: 1.0\n"
     ]
    }
   ],
   "source": [
    "# Example 3: Quantum teleportation\n",
    "\n",
    "alpha, beta = 0.3**0.5, 0.7**0.5 # Initial state of Chris\n",
    "\n",
    "chris_state = State(np.array([alpha,beta]))\n",
    "chirs_state = chris_state.normalise()  # Normalise the state\n",
    "\n",
    "print(\"initial state\",chris_state)\n",
    "print(\"norm\",chris_state.norm())\n",
    "\n",
    "state = chris_state**phi_plus\n",
    "\n",
    "state = (CNOT**I)@state\n",
    "state = (H**I**I)@state\n",
    "\n",
    "bell_measure_outcome = [None,None]\n",
    "outcome, state = state.subsystem_measurement(0, 3)\n",
    "\n",
    "bell_measure_outcome[0] = int(outcome)\n",
    "outcome, state = state.subsystem_measurement(0, 2)\n",
    "\n",
    "bell_measure_outcome[1] = int(outcome)\n",
    "\n",
    "print()\n",
    "print(\"state after bell measurment\", state)\n",
    "print(\"norm:\", state.norm())\n",
    "print(\"measurment_outcome\", bell_measure_outcome)\n",
    "\n",
    "final_gate = I\n",
    "if bell_measure_outcome[0]: \n",
    "    final_gate = final_gate@Z\n",
    "if bell_measure_outcome[1]: \n",
    "    final_gate = final_gate@X\n",
    "\n",
    "final_state = final_gate@state\n",
    "print()\n",
    "print(\"final state\", final_state)\n",
    "print(\"norm:\", final_state.norm())"
   ]
  },
  {
   "cell_type": "markdown",
   "id": "53fe4adf",
   "metadata": {},
   "source": [
    "# 4. Quantum Fourier Transform"
   ]
  },
  {
   "cell_type": "code",
   "execution_count": null,
   "id": "cf49de57",
   "metadata": {},
   "outputs": [
    {
     "name": "stdout",
     "output_type": "stream",
     "text": [
      "initial state [0 0 0 1 0 0 0 0]\n",
      "norm 1.0\n",
      "\n",
      "final state [ 0.354+0.j    -0.354+0.j    -0.   -0.354j  0.   +0.354j -0.25 +0.25j\n",
      "  0.25 -0.25j   0.25 +0.25j  -0.25 -0.25j ]\n",
      "norm: 0.9999999999999997\n"
     ]
    }
   ],
   "source": [
    "# Example 4: Quantum teleportation\n",
    "\n",
    "#initial_state = zero_state ** zero_state ** zero_state\n",
    "initial_state = zero_state ** one_state ** one_state\n",
    "#initial_state = one_state ** zero_state ** zero_state\n",
    "#initial_state = one_state ** one_state ** one_state\n",
    "\n",
    "\n",
    "print(\"initial state\",initial_state)\n",
    "print(\"norm\",state.norm())\n",
    "\n",
    "def R(k):\n",
    "    omega = 1j*2*np.pi\n",
    "    Rk =[[1, 0],\n",
    "         [0, np.exp(omega/2**k)]]\n",
    "    return Gate(np.array(Rk))\n",
    "\n",
    "gate = H**I**I\n",
    "gate @= R(2)**P1**I + I**P0**I\n",
    "gate @= R(3)**I**P1 + I**I**P0\n",
    "\n",
    "gate @= I**H**I\n",
    "gate @= I**R(2)**P1 + I**I**P0\n",
    "\n",
    "gate @= I**I**H\n",
    "\n",
    "final_state = gate@initial_state\n",
    "\n",
    "print()\n",
    "print(\"final state\", final_state.vector.round(3))\n",
    "print(\"norm:\", final_state.norm())"
   ]
  }
 ],
 "metadata": {
  "kernelspec": {
   "display_name": "Python 3",
   "language": "python",
   "name": "python3"
  },
  "language_info": {
   "codemirror_mode": {
    "name": "ipython",
    "version": 3
   },
   "file_extension": ".py",
   "mimetype": "text/x-python",
   "name": "python",
   "nbconvert_exporter": "python",
   "pygments_lexer": "ipython3",
   "version": "3.13.1"
  }
 },
 "nbformat": 4,
 "nbformat_minor": 5
}
