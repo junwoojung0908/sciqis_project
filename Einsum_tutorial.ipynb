{
 "cells": [
  {
   "cell_type": "markdown",
   "id": "61b53c9a",
   "metadata": {},
   "source": [
    "## Hi"
   ]
  },
  {
   "cell_type": "code",
   "execution_count": null,
   "id": "552ce9d7",
   "metadata": {},
   "outputs": [],
   "source": []
  }
 ],
 "metadata": {
  "language_info": {
   "name": "python"
  }
 },
 "nbformat": 4,
 "nbformat_minor": 5
}
