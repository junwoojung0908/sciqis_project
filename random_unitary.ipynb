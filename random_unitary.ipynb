{
 "cells": [
  {
   "cell_type": "code",
   "execution_count": null,
   "id": "552ce9d7",
   "metadata": {},
   "outputs": [],
   "source": [
    "import numpy as np\n",
    "from state_gate_class import State, Gate\n",
    "from useful_states_gates import *\n",
    "import random\n",
    "import matplotlib.pyplot as plt"
   ]
  },
  {
   "cell_type": "markdown",
   "id": "43be63b4",
   "metadata": {},
   "source": [
    "# single-qubit Ciruit"
   ]
  },
  {
   "cell_type": "code",
   "execution_count": 2,
   "id": "4b9d3812",
   "metadata": {},
   "outputs": [
    {
     "name": "stdout",
     "output_type": "stream",
     "text": [
      "<function <lambda> at 0x1063d9e40>\n",
      "<class 'function'>\n"
     ]
    }
   ],
   "source": [
    "def rotation(theta,U):\n",
    "    return (I * np.cos(theta/2)) + (U * 1j * np.sin(theta/2))\n",
    "\n",
    "def controlled_U(U,reverse=False):\n",
    "    if not reverse:\n",
    "        return proj_zero**I + proj_one**U\n",
    "    return I**proj_zero + U**proj_one\n",
    "\n",
    "# Circuit A\n",
    "A = lambda theta : H @ rotation(theta, Z)\n",
    "\n",
    "print(A)\n",
    "print(type(A))\n",
    "\n",
    "# Circuit B\n",
    "B = lambda theta, phi : H @ rotation(theta, Z) @ rotation(phi, X)"
   ]
  },
  {
   "cell_type": "code",
   "execution_count": null,
   "id": "7ba787a4",
   "metadata": {},
   "outputs": [
    {
     "name": "stdout",
     "output_type": "stream",
     "text": [
      "100 10000\n"
     ]
    },
    {
     "data": {
      "image/png": "[encoded data removed]",
      "text/plain": [
       "<Figure size 640x480 with 1 Axes>"
      ]
     },
     "metadata": {},
     "output_type": "display_data"
    },
    {
     "data": {
      "text/plain": [
       "\"\\n\\nplt.hist(fidelity_A, label='Circuit A Fidelity')\\nplt.hist(fidelity_B, label='Circuit B Fidelity')\\nplt.xlabel('Fidelity')\\nplt.ylabel('Probability')\\nplt.title('Fidelity Distribution of Circuits A and B')\\nplt.legend()\\nplt.show()\\n\\n\""
      ]
     },
     "execution_count": 13,
     "metadata": {},
     "output_type": "execute_result"
    }
   ],
   "source": [
    "theta_List = np.linspace(0, 2*np.pi, 100)\n",
    "phi_List = np.linspace(0, 2*np.pi, 100)\n",
    "\n",
    "qubit_A = [A(theta) @ state for theta in theta_List]\n",
    "qubit_B = [None] * len(phi_List) * len(theta_List)\n",
    "\n",
    "for i in range(len(phi_List)):\n",
    "    for j in range(len(theta_List)):\n",
    "        qubit_B[i * len(theta_List) + j] = B(theta_List[j], phi_List[i]) @ zero_state\n",
    "\n",
    "def fidelity(state1, state2):\n",
    "    return np.abs(np.vdot(state1.vector, state2.vector))**2\n",
    "\n",
    "N = 1000\n",
    "fidelity_A = [None] * N\n",
    "fidelity_B = [None] * N\n",
    "\n",
    "for i in range(N = 1000): \n",
    "    fidelity_A[i] = fidelity(random.choice(qubit_A),random.choice(qubit_A))\n",
    "    fidelity_B[i] = fidelity(random.choice(qubit_B),random.choice(qubit_B))\n",
    "    \n",
    "haar_dstr = lambda f, N: (N-1) *(1-f)**(N-2)\n",
    "\n",
    "\n",
    "\n",
    "\n"
   ]
  },
  {
   "cell_type": "code",
   "execution_count": null,
   "id": "1b0668ed",
   "metadata": {},
   "outputs": [],
   "source": [
    "RX = controlled_U(X)\n",
    "RZ = controlled_U(Z)\n",
    "\n",
    "gate = (RX^4) @ (RZ^4)"
   ]
  },
  {
   "cell_type": "code",
   "execution_count": null,
   "id": "69a990f9",
   "metadata": {},
   "outputs": [],
   "source": []
  }
 ],
 "metadata": {
  "kernelspec": {
   "display_name": "Python 3",
   "language": "python",
   "name": "python3"
  },
  "language_info": {
   "codemirror_mode": {
    "name": "ipython",
    "version": 3
   },
   "file_extension": ".py",
   "mimetype": "text/x-python",
   "name": "python",
   "nbconvert_exporter": "python",
   "pygments_lexer": "ipython3",
   "version": "3.13.1"
  }
 },
 "nbformat": 4,
 "nbformat_minor": 5
}
